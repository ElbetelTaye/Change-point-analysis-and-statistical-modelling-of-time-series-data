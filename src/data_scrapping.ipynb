{
 "cells": [
  {
   "cell_type": "markdown",
   "metadata": {},
   "source": [
    "##### Using yfinance"
   ]
  },
  {
   "cell_type": "code",
   "execution_count": 1,
   "metadata": {},
   "outputs": [
    {
     "name": "stderr",
     "output_type": "stream",
     "text": [
      "[*********************100%***********************]  1 of 1 completed"
     ]
    },
    {
     "name": "stdout",
     "output_type": "stream",
     "text": [
      "Data saved to brent_oil_prices_yf.csv\n"
     ]
    },
    {
     "name": "stderr",
     "output_type": "stream",
     "text": [
      "\n"
     ]
    }
   ],
   "source": [
    "import yfinance as yf\n",
    "\n",
    "# Download Brent oil historical data\n",
    "brent = yf.download(\"BZ=F\", start=\"1987-01-01\", end=\"2023-12-31\")\n",
    "brent.to_csv('../data/brent_oil_prices_yf.csv')\n",
    "print(\"Data saved to brent_oil_prices_yf.csv\")\n"
   ]
  },
  {
   "cell_type": "markdown",
   "metadata": {},
   "source": [
    "##### To scrape relevant events from a Wikipedia page (e.g., \"Timeline of the oil industry\" or a specific list of global events) for the years 1987-2023."
   ]
  },
  {
   "cell_type": "code",
   "execution_count": 1,
   "metadata": {},
   "outputs": [
    {
     "name": "stdout",
     "output_type": "stream",
     "text": [
      "Events data saved to oil_related_events.csv\n"
     ]
    },
    {
     "data": {
      "text/html": [
       "<div>\n",
       "<style scoped>\n",
       "    .dataframe tbody tr th:only-of-type {\n",
       "        vertical-align: middle;\n",
       "    }\n",
       "\n",
       "    .dataframe tbody tr th {\n",
       "        vertical-align: top;\n",
       "    }\n",
       "\n",
       "    .dataframe thead th {\n",
       "        text-align: right;\n",
       "    }\n",
       "</style>\n",
       "<table border=\"1\" class=\"dataframe\">\n",
       "  <thead>\n",
       "    <tr style=\"text-align: right;\">\n",
       "      <th></th>\n",
       "      <th>Year</th>\n",
       "      <th>Event</th>\n",
       "    </tr>\n",
       "  </thead>\n",
       "  <tbody>\n",
       "    <tr>\n",
       "      <th>0</th>\n",
       "      <td>2007</td>\n",
       "      <td>2008 world food price crisis</td>\n",
       "    </tr>\n",
       "    <tr>\n",
       "      <th>1</th>\n",
       "      <td>2011</td>\n",
       "      <td>2013 world oil market chronology</td>\n",
       "    </tr>\n",
       "    <tr>\n",
       "      <th>2</th>\n",
       "      <td>2014</td>\n",
       "      <td>2016 world oil market chronology</td>\n",
       "    </tr>\n",
       "    <tr>\n",
       "      <th>3</th>\n",
       "      <td>2017</td>\n",
       "      <td>2019 world oil market chronology</td>\n",
       "    </tr>\n",
       "    <tr>\n",
       "      <th>4</th>\n",
       "      <td>2020</td>\n",
       "      <td>2022 world oil market chronology</td>\n",
       "    </tr>\n",
       "  </tbody>\n",
       "</table>\n",
       "</div>"
      ],
      "text/plain": [
       "   Year                             Event\n",
       "0  2007      2008 world food price crisis\n",
       "1  2011  2013 world oil market chronology\n",
       "2  2014  2016 world oil market chronology\n",
       "3  2017  2019 world oil market chronology\n",
       "4  2020  2022 world oil market chronology"
      ]
     },
     "metadata": {},
     "output_type": "display_data"
    }
   ],
   "source": [
    "import requests\n",
    "from bs4 import BeautifulSoup\n",
    "import pandas as pd\n",
    "\n",
    "# URL of the Wikipedia page with oil industry-related events\n",
    "url = 'https://en.wikipedia.org/wiki/Price_of_oil'  # Replace with a relevant page\n",
    "\n",
    "# Send a GET request to fetch page content\n",
    "response = requests.get(url)\n",
    "soup = BeautifulSoup(response.text, 'html.parser')\n",
    "\n",
    "# Find the relevant sections for events\n",
    "events = []\n",
    "\n",
    "# Example: looking for events in <li> tags under certain headers\n",
    "for li in soup.find_all('li'):\n",
    "    # This may require adjustment based on the structure of the page\n",
    "    text = li.get_text()\n",
    "    year = text[:4]\n",
    "    # Filter only events within the date range\n",
    "    if year.isdigit() and 1987 <= int(year) <= 2023:\n",
    "        events.append({\n",
    "            'Year': int(year),\n",
    "            'Event': text[5:]\n",
    "        })\n",
    "\n",
    "# Convert to DataFrame\n",
    "events_df = pd.DataFrame(events)\n",
    "\n",
    "# Save to CSV\n",
    "events_df.to_csv('brent_oil_related_events.csv', index=False)\n",
    "print(\"Events data saved to oil_related_events.csv\")\n",
    "display(events_df.head())\n"
   ]
  },
  {
   "cell_type": "markdown",
   "metadata": {},
   "source": [
    "#### Data retrival from World bank"
   ]
  },
  {
   "cell_type": "code",
   "execution_count": 2,
   "metadata": {},
   "outputs": [
    {
     "name": "stdout",
     "output_type": "stream",
     "text": [
      "Country metadata saved to 'country_metadata.csv'\n"
     ]
    },
    {
     "data": {
      "text/html": [
       "<div>\n",
       "<style scoped>\n",
       "    .dataframe tbody tr th:only-of-type {\n",
       "        vertical-align: middle;\n",
       "    }\n",
       "\n",
       "    .dataframe tbody tr th {\n",
       "        vertical-align: top;\n",
       "    }\n",
       "\n",
       "    .dataframe thead th {\n",
       "        text-align: right;\n",
       "    }\n",
       "</style>\n",
       "<table border=\"1\" class=\"dataframe\">\n",
       "  <thead>\n",
       "    <tr style=\"text-align: right;\">\n",
       "      <th></th>\n",
       "      <th>Country</th>\n",
       "      <th>Region</th>\n",
       "    </tr>\n",
       "  </thead>\n",
       "  <tbody>\n",
       "    <tr>\n",
       "      <th>0</th>\n",
       "      <td>South Georgia</td>\n",
       "      <td>Antarctic</td>\n",
       "    </tr>\n",
       "    <tr>\n",
       "      <th>1</th>\n",
       "      <td>Grenada</td>\n",
       "      <td>Americas</td>\n",
       "    </tr>\n",
       "    <tr>\n",
       "      <th>2</th>\n",
       "      <td>Switzerland</td>\n",
       "      <td>Europe</td>\n",
       "    </tr>\n",
       "    <tr>\n",
       "      <th>3</th>\n",
       "      <td>Sierra Leone</td>\n",
       "      <td>Africa</td>\n",
       "    </tr>\n",
       "    <tr>\n",
       "      <th>4</th>\n",
       "      <td>Hungary</td>\n",
       "      <td>Europe</td>\n",
       "    </tr>\n",
       "  </tbody>\n",
       "</table>\n",
       "</div>"
      ],
      "text/plain": [
       "         Country     Region\n",
       "0  South Georgia  Antarctic\n",
       "1        Grenada   Americas\n",
       "2    Switzerland     Europe\n",
       "3   Sierra Leone     Africa\n",
       "4        Hungary     Europe"
      ]
     },
     "metadata": {},
     "output_type": "display_data"
    }
   ],
   "source": [
    "import requests\n",
    "import pandas as pd\n",
    "\n",
    "# Fetch country data from REST Countries API\n",
    "response = requests.get(\"https://restcountries.com/v3.1/all\")\n",
    "country_data = response.json()\n",
    "\n",
    "# Create lists for country metadata\n",
    "countries = []\n",
    "regions = []\n",
    "\n",
    "# Extract relevant data\n",
    "for country in country_data:\n",
    "    countries.append(country.get('name', {}).get('common', ''))\n",
    "    regions.append(country.get('region', ''))\n",
    "\n",
    "# Create DataFrame\n",
    "country_metadata = pd.DataFrame({\n",
    "    'Country': countries,\n",
    "    'Region': regions\n",
    "})\n",
    "\n",
    "# Save to CSV\n",
    "country_metadata.to_csv('country_metadata.csv', index=False)\n",
    "print(\"Country metadata saved to 'country_metadata.csv'\")\n",
    "display(country_metadata.head())"
   ]
  },
  {
   "cell_type": "code",
   "execution_count": 4,
   "metadata": {},
   "outputs": [
    {
     "name": "stdout",
     "output_type": "stream",
     "text": [
      "Columns in economic_data: Index(['country', 'date', 'GDP'], dtype='object')\n",
      "Columns in country_df: Index(['Country', 'Region'], dtype='object')\n",
      "KeyError during merge: 'Country'\n",
      "Available columns in economic_data: Index(['country', 'date', 'GDP'], dtype='object')\n",
      "Available columns in country_df: Index(['Country', 'Region'], dtype='object')\n"
     ]
    },
    {
     "data": {
      "text/html": [
       "<div>\n",
       "<style scoped>\n",
       "    .dataframe tbody tr th:only-of-type {\n",
       "        vertical-align: middle;\n",
       "    }\n",
       "\n",
       "    .dataframe tbody tr th {\n",
       "        vertical-align: top;\n",
       "    }\n",
       "\n",
       "    .dataframe thead th {\n",
       "        text-align: right;\n",
       "    }\n",
       "</style>\n",
       "<table border=\"1\" class=\"dataframe\">\n",
       "  <thead>\n",
       "    <tr style=\"text-align: right;\">\n",
       "      <th></th>\n",
       "      <th>country</th>\n",
       "      <th>date</th>\n",
       "      <th>GDP</th>\n",
       "    </tr>\n",
       "  </thead>\n",
       "  <tbody>\n",
       "    <tr>\n",
       "      <th>0</th>\n",
       "      <td>Africa Eastern and Southern</td>\n",
       "      <td>2023</td>\n",
       "      <td>1.236163e+12</td>\n",
       "    </tr>\n",
       "    <tr>\n",
       "      <th>1</th>\n",
       "      <td>Africa Eastern and Southern</td>\n",
       "      <td>2022</td>\n",
       "      <td>1.183962e+12</td>\n",
       "    </tr>\n",
       "    <tr>\n",
       "      <th>2</th>\n",
       "      <td>Africa Eastern and Southern</td>\n",
       "      <td>2021</td>\n",
       "      <td>1.086772e+12</td>\n",
       "    </tr>\n",
       "    <tr>\n",
       "      <th>3</th>\n",
       "      <td>Africa Eastern and Southern</td>\n",
       "      <td>2020</td>\n",
       "      <td>9.290741e+11</td>\n",
       "    </tr>\n",
       "    <tr>\n",
       "      <th>4</th>\n",
       "      <td>Africa Eastern and Southern</td>\n",
       "      <td>2019</td>\n",
       "      <td>1.006527e+12</td>\n",
       "    </tr>\n",
       "  </tbody>\n",
       "</table>\n",
       "</div>"
      ],
      "text/plain": [
       "                       country  date           GDP\n",
       "0  Africa Eastern and Southern  2023  1.236163e+12\n",
       "1  Africa Eastern and Southern  2022  1.183962e+12\n",
       "2  Africa Eastern and Southern  2021  1.086772e+12\n",
       "3  Africa Eastern and Southern  2020  9.290741e+11\n",
       "4  Africa Eastern and Southern  2019  1.006527e+12"
      ]
     },
     "metadata": {},
     "output_type": "display_data"
    }
   ],
   "source": [
    "import wbdata\n",
    "import pandas as pd\n",
    "from datetime import datetime\n",
    "\n",
    "# Define indicators and date range\n",
    "indicators = {'NY.GDP.MKTP.CD': 'GDP'}\n",
    "date_range = (datetime(1987, 1, 1), datetime(2022, 12, 31))\n",
    "\n",
    "# Fetch GDP data for all available countries\n",
    "economic_data = wbdata.get_dataframe(indicators)\n",
    "\n",
    "# Reset index to have 'Country' and 'Date' as columns\n",
    "economic_data.reset_index(inplace=True)\n",
    "\n",
    "# Check the columns of economic_data to ensure 'Country' exists\n",
    "print(\"Columns in economic_data:\", economic_data.columns)\n",
    "\n",
    "# Load country metadata from CSV\n",
    "country_df = pd.read_csv('C:/Users/elbet/OneDrive/Desktop/Ten/week-10/Change-point-analysis-and-statistical-modelling-of-time-series-data/Notebook/country_metadata.csv')\n",
    "\n",
    "# Check the columns of country_df to ensure 'Country' exists\n",
    "print(\"Columns in country_df:\", country_df.columns)\n",
    "\n",
    "# Rename columns if necessary to match\n",
    "if 'name' in country_df.columns:\n",
    "    country_df.rename(columns={'name': 'Country'}, inplace=True)\n",
    "\n",
    "# Perform the merge\n",
    "try:\n",
    "    economic_data = pd.merge(economic_data, country_df, on='Country', how='left')\n",
    "except KeyError as e:\n",
    "    print(f\"KeyError during merge: {e}\")\n",
    "    print(\"Available columns in economic_data:\", economic_data.columns)\n",
    "    print(\"Available columns in country_df:\", country_df.columns)\n",
    "\n",
    "# Save the resulting DataFrame to CSV\n",
    "economic_data.to_csv('C:/Users/elbet/OneDrive/Desktop/Ten/week-10/Change-point-analysis-and-statistical-modelling-of-time-series-data/data/All_economic_data.csv', index=False)\n",
    "\n",
    "# Display the first few rows of the final DataFrame\n",
    "# print(economic_data)\n",
    "display(economic_data.head())"
   ]
  },
  {
   "cell_type": "code",
   "execution_count": 32,
   "metadata": {},
   "outputs": [
    {
     "name": "stdout",
     "output_type": "stream",
     "text": [
      "Failed to retrieve data. Please check the series ID or API key.\n"
     ]
    }
   ],
   "source": [
    "import requests\n",
    "import pandas as pd\n",
    "\n",
    "# Your EIA API key\n",
    "api_key = \"DkCvZcDDJGlhhRj59orlwJUmTtACzClEbRPnaS7q\"\n",
    "\n",
    "# The series ID for Brent Crude oil prices (you might need to confirm the exact Series ID)\n",
    "series_id = \"PET.RBRTE.M\"  # This is typically for Brent Crude Oil Europe Spot Price, Monthly\n",
    "\n",
    "# Define the API endpoint\n",
    "url = f\"https://api.eia.gov/API_route?{api_key}\"\n",
    "\n",
    "# Send the GET request to the API\n",
    "response = requests.get(url)\n",
    "data = response.json()\n",
    "\n",
    "# Check if data retrieval was successful\n",
    "if 'series' in data:\n",
    "    # Extract the data points\n",
    "    records = data['series'][0]['data']\n",
    "    \n",
    "    # Convert to DataFrame and set up columns\n",
    "    df = pd.DataFrame(records, columns=[\"Date\", \"Price\"])\n",
    "    \n",
    "    # Convert the date column to datetime format and sort by date\n",
    "    df['Date'] = pd.to_datetime(df['Date'], format='%Y%m')\n",
    "    df = df.sort_values(by=\"Date\").reset_index(drop=True)\n",
    "    \n",
    "    # Display the first few rows of the dataframe\n",
    "    print(df.head())\n",
    "    \n",
    "    # Save to CSV\n",
    "    df.to_csv(\"brent_crude_oil_prices.csv\", index=False)\n",
    "    print(\"Data saved to brent_crude_oil_prices.csv\")\n",
    "else:\n",
    "    print(\"Failed to retrieve data. Please check the series ID or API key.\")\n"
   ]
  },
  {
   "cell_type": "code",
   "execution_count": null,
   "metadata": {},
   "outputs": [],
   "source": []
  }
 ],
 "metadata": {
  "kernelspec": {
   "display_name": "elbetel",
   "language": "python",
   "name": "python3"
  },
  "language_info": {
   "codemirror_mode": {
    "name": "ipython",
    "version": 3
   },
   "file_extension": ".py",
   "mimetype": "text/x-python",
   "name": "python",
   "nbconvert_exporter": "python",
   "pygments_lexer": "ipython3",
   "version": "3.9.20"
  }
 },
 "nbformat": 4,
 "nbformat_minor": 2
}
